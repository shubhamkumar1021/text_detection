{
 "cells": [
  {
   "cell_type": "markdown",
   "id": "ea95c474",
   "metadata": {
    "papermill": {
     "duration": 0.010189,
     "end_time": "2022-02-27T06:30:17.490095",
     "exception": false,
     "start_time": "2022-02-27T06:30:17.479906",
     "status": "completed"
    },
    "tags": []
   },
   "source": [
    "plagirism checker: https://towardsdatascience.com/simple-plagiarism-detection-in-python-2314ac3aee88"
   ]
  },
  {
   "cell_type": "markdown",
   "id": "c7eec05e",
   "metadata": {
    "papermill": {
     "duration": 0.008196,
     "end_time": "2022-02-27T06:30:17.507962",
     "exception": false,
     "start_time": "2022-02-27T06:30:17.499766",
     "status": "completed"
    },
    "tags": []
   },
   "source": [
    "I am trying to check the plagiarism from my para phraser here: https://www.kaggle.com/fanbyprinciple/paraphrasing-texts-using-parrot/"
   ]
  },
  {
   "cell_type": "code",
   "execution_count": 1,
   "id": "46d00af6",
   "metadata": {
    "execution": {
     "iopub.execute_input": "2022-02-27T06:30:17.531617Z",
     "iopub.status.busy": "2022-02-27T06:30:17.527360Z",
     "iopub.status.idle": "2022-02-27T06:30:27.152692Z",
     "shell.execute_reply": "2022-02-27T06:30:27.152154Z",
     "shell.execute_reply.started": "2022-02-27T06:06:34.395977Z"
    },
    "papermill": {
     "duration": 9.636453,
     "end_time": "2022-02-27T06:30:27.152825",
     "exception": false,
     "start_time": "2022-02-27T06:30:17.516372",
     "status": "completed"
    },
    "tags": []
   },
   "outputs": [
    {
     "name": "stdout",
     "output_type": "stream",
     "text": [
      "Requirement already satisfied: nltk in c:\\users\\kiit\\anaconda3\\lib\\site-packages (3.8.1)\n",
      "Requirement already satisfied: tqdm in c:\\users\\kiit\\anaconda3\\lib\\site-packages (from nltk) (4.64.1)\n",
      "Requirement already satisfied: regex>=2021.8.3 in c:\\users\\kiit\\anaconda3\\lib\\site-packages (from nltk) (2022.7.9)\n",
      "Requirement already satisfied: joblib in c:\\users\\kiit\\anaconda3\\lib\\site-packages (from nltk) (1.1.1)\n",
      "Requirement already satisfied: click in c:\\users\\kiit\\anaconda3\\lib\\site-packages (from nltk) (8.0.4)\n",
      "Requirement already satisfied: colorama in c:\\users\\kiit\\appdata\\roaming\\python\\python310\\site-packages (from click->nltk) (0.4.6)\n"
     ]
    }
   ],
   "source": [
    "!pip install -U nltk"
   ]
  },
  {
   "cell_type": "code",
   "execution_count": 26,
   "id": "7e21d918",
   "metadata": {
    "execution": {
     "iopub.execute_input": "2022-02-27T06:30:27.183408Z",
     "iopub.status.busy": "2022-02-27T06:30:27.182939Z",
     "iopub.status.idle": "2022-02-27T06:30:28.348855Z",
     "shell.execute_reply": "2022-02-27T06:30:28.348426Z",
     "shell.execute_reply.started": "2022-02-27T06:06:55.448265Z"
    },
    "papermill": {
     "duration": 1.183149,
     "end_time": "2022-02-27T06:30:28.348969",
     "exception": false,
     "start_time": "2022-02-27T06:30:27.165820",
     "status": "completed"
    },
    "tags": []
   },
   "outputs": [],
   "source": [
    "import re\n",
    "from nltk.util import ngrams, pad_sequence, everygrams\n",
    "from nltk.tokenize import word_tokenize\n",
    "from nltk.lm import MLE, WittenBellInterpolated\n",
    "import numpy as np\n",
    "import plotly.graph_objects as go\n",
    "from scipy.ndimage import gaussian_filter\n",
    "import seaborn as sns\n",
    "import matplotlib.pyplot as plt"
   ]
  },
  {
   "cell_type": "code",
   "execution_count": 27,
   "id": "4d83af8c",
   "metadata": {},
   "outputs": [
    {
     "name": "stderr",
     "output_type": "stream",
     "text": [
      "[nltk_data] Downloading package punkt to\n",
      "[nltk_data]     C:\\Users\\KIIT\\AppData\\Roaming\\nltk_data...\n",
      "[nltk_data]   Package punkt is already up-to-date!\n"
     ]
    },
    {
     "data": {
      "text/plain": [
       "True"
      ]
     },
     "execution_count": 27,
     "metadata": {},
     "output_type": "execute_result"
    }
   ],
   "source": [
    "import nltk\n",
    "nltk.download('punkt')"
   ]
  },
  {
   "cell_type": "code",
   "execution_count": 28,
   "id": "4b2b39e9",
   "metadata": {
    "execution": {
     "iopub.execute_input": "2022-02-27T06:30:28.380034Z",
     "iopub.status.busy": "2022-02-27T06:30:28.375210Z",
     "iopub.status.idle": "2022-02-27T06:30:28.382869Z",
     "shell.execute_reply": "2022-02-27T06:30:28.382399Z",
     "shell.execute_reply.started": "2022-02-27T06:24:15.629148Z"
    },
    "papermill": {
     "duration": 0.022205,
     "end_time": "2022-02-27T06:30:28.382971",
     "exception": false,
     "start_time": "2022-02-27T06:30:28.360766",
     "status": "completed"
    },
    "tags": []
   },
   "outputs": [],
   "source": [
    "f1 = open('train.txt', 'w+')\n",
    "f2 = open('test.txt', 'w+')\n",
    "\n",
    "f1.write(\"\"\"\n",
    "“Wings of Fire: An Autobiography of Abdul Kalam”  is written by Dr. APJ Abdul Kalam and Arun Tiwari. This book is an autobiography of Dr. APJ Abdul Kalam, former president of India. This story sheds light on the journey of a young boy from Rameswaram to become a renowned scientist. It reflects how simple living, dedication, strong will and hard work led to success. It also shows how cultural unity impacts the lives of individuals.\n",
    "\n",
    "The story begins with Kalam as a boy  around 1930 in the village of Rameswaram where he lived with his parents and four brothers and one sister. In this book, the author tells us how the role of family, relatives, friends, and society contribute to an individual’s life. Kalam describes his village where everyone lives in harmony. Religious discrimination was unknown at that time. A passage that shows the closeness  they had: “The high priest of Rameswaram temple, Pakshi Lakshmana Sastry, was a very close friend of my father’s. One of the most vivid memories of my early childhood is of the two men, each in his traditional attire, discussing spiritual matters.”\n",
    "\n",
    "When he was very young, Kalam wanted to join the Indian Airforce but he was not able to clear the interview. Far from being demotivated, he focused more on studies, started his career in Aeronautical Development Establishment (ADE), and was involved in the design of a hovercraft. He went to NASA on a training program. He moved to Indian Space Research and there he met Vikram Sarabhai. He also met many geniuses who inspired him. The book also describes leadership and teamwork, while making the projects. It shows how a  man becomes a leader whenever there is a successful project or a failed one.\n",
    "\n",
    "The book reveals extensive and detailed project work by Dr. APJ Kalam, which I find distracting from the story of his life. Some readers may find this detailed descriptions boring and unappealing. It highlights the successful execution of “Agni” and other projects.\n",
    "\n",
    "The book narrates India’s technological achievements at a time, few nations can boast of. It speaks about some brilliant minds who worked behind Indian space research such as Vikram Sarabhai and Dr. Brahm Prakash and their contribution towards ISRO.\n",
    "\n",
    "As a reader, this book initially is very interesting particularly the portions from his younger days to a college student like how his family encouraged him. Later, the writing becomes a bit monotonous as it gives minute illustrations of the projects. At the end, he offers advice to the younger generation not to get demotivated and lead a positive life.\n",
    "\n",
    "This book demonstrates how Dr. APJ Abdul Kalam’s simple living and positive thinking became an inspiration for the Indian youth.\n",
    "\"\"\")\n",
    "\n",
    "f2.write(\"\"\"\n",
    "\"Wings of fire an autobiography of abdul kalam is a book by dr.APJ Abdul Kalam and Arun Tiwari.APJ Abdul Kalam, former president of India.This story sheds light on the journey of a boy from rameswaram to become a famous scientist.It reflects how simple living, dedication, strong will and hard work led to success.It also shows how cultural unity influences the lives of individual individuals.The story begins with kalam as a boy in the village of rameswaram around 1930 where he lived with his parents four brothers and one sister.The author tells us in this book how the role of family friends and society contribute to an individuals life.Kalam describes his village where everybody lives in harmony.Discrimination was never known at that time and was unknown today.A passage that shows the closeness they had the priest of the temple of rameswaram pakshi lakshmana sastry was a very close friend of.One of the most vivid memories of my early childhood is the conversation between two males each wearing his traditional clothes about religious matters.”\\n\\nWhen he was very young, Kalam wanted to join the Indian Airforce but he was not able to clear the interview.Far from being demotivated, he focused more on studies, started his career in Aeronautical Development Establishment (ADE), and was involved in the design of a hovercraft.He went to nasa on a training programme.He moved to indian space research and met vikram sarabhai there.He also met many great minds who inspired him.The book also describes leadership and teamwork, while making the projects.It shows how a man becomes a leader whenever there is a failed or a successful project.APJ Kalam, which I find distracting from the story of his life.Some readers might find these detailed descriptions boring and unappealing.This publication highlights the successful execution of agni and other projects.The book tells the story of india's technological achievements at a time when few nations can boast of its technological breakthroughs.It talks about some brilliant minds who worked behind the indian space research such as vikram sarabhai and vikram.Brahm Prakash and their contribution towards ISRO.As a reader, this book initially is very interesting particularly the portions from his younger days to a college student like how his family encouraged him.Later the writing becomes a little monotonous as he presents minute illustrations of the projects.He teaches the younger generation not to get demotivated and to live a positive life.This book demonstrates how dr.Apj abdul kalam's simple lifestyle and positive thinking became an inspiration to the indian youth\"\n",
    "\"\"\")\n",
    "\n",
    "f1.close()\n",
    "f2.close()"
   ]
  },
  {
   "cell_type": "code",
   "execution_count": 29,
   "id": "30965158",
   "metadata": {
    "execution": {
     "iopub.execute_input": "2022-02-27T06:30:28.411539Z",
     "iopub.status.busy": "2022-02-27T06:30:28.410950Z",
     "iopub.status.idle": "2022-02-27T06:30:28.412690Z",
     "shell.execute_reply": "2022-02-27T06:30:28.413069Z",
     "shell.execute_reply.started": "2022-02-27T06:24:27.017705Z"
    },
    "papermill": {
     "duration": 0.018027,
     "end_time": "2022-02-27T06:30:28.413217",
     "exception": false,
     "start_time": "2022-02-27T06:30:28.395190",
     "status": "completed"
    },
    "tags": []
   },
   "outputs": [],
   "source": [
    "# Training data file\n",
    "train_data_file = \"train.txt\"\n",
    "\n",
    "# read training data\n",
    "with open(train_data_file) as f:\n",
    "    train_text = f.read().lower()\n",
    "\n",
    "# apply preprocessing (remove text inside square and curly brackets and rem punc)\n",
    "train_text = re.sub(r\"\\[.*\\]|\\{.*\\}\", \"\", train_text)\n",
    "train_text = re.sub(r'[^\\w\\s]', \"\", train_text)"
   ]
  },
  {
   "cell_type": "code",
   "execution_count": 30,
   "id": "a79bfcd1",
   "metadata": {
    "execution": {
     "iopub.execute_input": "2022-02-27T06:30:28.440441Z",
     "iopub.status.busy": "2022-02-27T06:30:28.439925Z",
     "iopub.status.idle": "2022-02-27T06:30:28.477632Z",
     "shell.execute_reply": "2022-02-27T06:30:28.478146Z",
     "shell.execute_reply.started": "2022-02-27T06:24:31.989863Z"
    },
    "papermill": {
     "duration": 0.052715,
     "end_time": "2022-02-27T06:30:28.478358",
     "exception": false,
     "start_time": "2022-02-27T06:30:28.425643",
     "status": "completed"
    },
    "tags": []
   },
   "outputs": [
    {
     "name": "stdout",
     "output_type": "stream",
     "text": [
      "Number of ngrams: 1814\n",
      "<Vocabulary with cutoff=1 unk_label='<UNK>' and 244 items>\n"
     ]
    }
   ],
   "source": [
    "# set ngram number\n",
    "n = 4\n",
    "\n",
    "# pad the text and tokenize\n",
    "training_data = list(pad_sequence(word_tokenize(train_text), n, \n",
    "                                  pad_left=True, \n",
    "                                  left_pad_symbol=\"<s>\"))\n",
    "\n",
    "# generate ngrams\n",
    "ngrams = list(everygrams(training_data, max_len=n))\n",
    "print(\"Number of ngrams:\", len(ngrams))\n",
    "\n",
    "# build ngram language models\n",
    "model = WittenBellInterpolated(n)\n",
    "model.fit([ngrams], vocabulary_text=training_data)\n",
    "print(model.vocab)"
   ]
  },
  {
   "cell_type": "code",
   "execution_count": 31,
   "id": "3c6ef8de",
   "metadata": {
    "execution": {
     "iopub.execute_input": "2022-02-27T06:30:28.518926Z",
     "iopub.status.busy": "2022-02-27T06:30:28.518272Z",
     "iopub.status.idle": "2022-02-27T06:30:28.524051Z",
     "shell.execute_reply": "2022-02-27T06:30:28.524707Z",
     "shell.execute_reply.started": "2022-02-27T06:25:57.259411Z"
    },
    "papermill": {
     "duration": 0.027833,
     "end_time": "2022-02-27T06:30:28.524864",
     "exception": false,
     "start_time": "2022-02-27T06:30:28.497031",
     "status": "completed"
    },
    "tags": []
   },
   "outputs": [
    {
     "name": "stdout",
     "output_type": "stream",
     "text": [
      "Number of n-grams: 1814\n",
      "<Vocabulary with cutoff=1 unk_label='<UNK>' and 244 items>\n"
     ]
    }
   ],
   "source": [
    "# Set n-gram number\n",
    "n = 4\n",
    "\n",
    "# Pad the text and tokenize\n",
    "training_data = list(pad_sequence(word_tokenize(train_text), n, \n",
    "                                  pad_left=True, \n",
    "                                  left_pad_symbol=\"<s>\"))\n",
    "\n",
    "# Generate n-grams\n",
    "ngrams = list(everygrams(training_data, max_len=n))\n",
    "print(\"Number of n-grams:\", len(ngrams))\n",
    "\n",
    "# Build n-gram language models\n",
    "model = WittenBellInterpolated(n)\n",
    "model.fit([ngrams], vocabulary_text=training_data)\n",
    "print(model.vocab)\n"
   ]
  },
  {
   "cell_type": "code",
   "execution_count": 32,
   "id": "26ba0884",
   "metadata": {},
   "outputs": [
    {
     "name": "stdout",
     "output_type": "stream",
     "text": [
      "Width, Height: 8 , 2\n"
     ]
    }
   ],
   "source": [
    "# Assign scores\n",
    "scores = []\n",
    "for i in range(n - 1, len(train_data_file)):\n",
    "    item = train_data_file[i]\n",
    "    context = train_data_file[i - n + 1:i]\n",
    "    s = model.score(item, context)\n",
    "    scores.append(s)\n",
    "\n",
    "scores_np = np.array(scores)\n",
    "\n",
    "# Set width and height\n",
    "width = 8\n",
    "height = np.ceil(len(train_data_file) / width).astype(\"int32\")\n",
    "print(\"Width, Height:\", width, \",\", height)\n",
    "\n",
    "# Copy scores to a rectangular blank array\n",
    "a = np.zeros(width * height)\n",
    "a[:len(scores_np)] = scores_np\n",
    "diff = len(a) - len(scores_np)\n",
    "\n",
    "# Apply Gaussian smoothing for aesthetics\n",
    "a = gaussian_filter(a, sigma=1.0)\n",
    "\n",
    "# Reshape to fit the rectangle\n",
    "a = a.reshape(-1, width)\n",
    "\n",
    "# Format labels\n",
    "labels = [\" \".join(train_data_file[i:i + width]) for i in range(n - 1, len(train_data_file), width)]\n",
    "labels_individual = [x.split() for x in labels]\n",
    "labels_individual[-1] += [\"\"] * diff\n",
    "labels = [f\"{x:60.60}\" for x in labels]\n",
    "\n",
    "# Now you can use 'a' for scores and 'labels' for labeling the data for visualization or further analysis.\n"
   ]
  },
  {
   "cell_type": "code",
   "execution_count": 35,
   "id": "e2d1c1c0",
   "metadata": {
    "execution": {
     "iopub.execute_input": "2022-02-27T06:30:28.623672Z",
     "iopub.status.busy": "2022-02-27T06:30:28.623113Z",
     "iopub.status.idle": "2022-02-27T06:30:28.765595Z",
     "shell.execute_reply": "2022-02-27T06:30:28.765125Z",
     "shell.execute_reply.started": "2022-02-27T06:26:27.738590Z"
    },
    "papermill": {
     "duration": 0.158575,
     "end_time": "2022-02-27T06:30:28.765696",
     "exception": false,
     "start_time": "2022-02-27T06:30:28.607121",
     "status": "completed"
    },
    "tags": []
   },
   "outputs": [
    {
     "data": {
      "application/vnd.plotly.v1+json": {
       "config": {
        "plotlyServerURL": "https://plot.ly"
       },
       "data": [
        {
         "colorscale": [
          [
           0,
           "rgb(255, 198, 196)"
          ],
          [
           0.16666666666666666,
           "rgb(244, 163, 168)"
          ],
          [
           0.3333333333333333,
           "rgb(227, 129, 145)"
          ],
          [
           0.5,
           "rgb(204, 96, 125)"
          ],
          [
           0.6666666666666666,
           "rgb(173, 70, 108)"
          ],
          [
           0.8333333333333334,
           "rgb(139, 48, 88)"
          ],
          [
           1,
           "rgb(103, 32, 68)"
          ]
         ],
         "customdata": [
          [
           "i",
           "n",
           ".",
           "t",
           "x",
           "t",
           "",
           "",
           "",
           "",
           "",
           "",
           "",
           "",
           "",
           ""
          ]
         ],
         "dx": 1,
         "hovertemplate": "%{customdata} <br><b>Score:%{z:.3f}<extra></extra>",
         "type": "heatmap",
         "x0": 0,
         "y": [
          "i n . t x t                                                 "
         ],
         "z": [
          [
           0.0014086042088191175,
           0.0006504671935764948,
           0.0001284021737159026,
           1.0034488449771445e-05,
           2.941332409115203e-07,
           0,
           0,
           0
          ],
          [
           0,
           0,
           0,
           0,
           0,
           0,
           0,
           0
          ]
         ],
         "zmax": 1,
         "zmin": 0
        }
       ],
       "layout": {
        "font": {
         "family": "Courier New"
        },
        "height": 56,
        "template": {
         "data": {
          "bar": [
           {
            "error_x": {
             "color": "#2a3f5f"
            },
            "error_y": {
             "color": "#2a3f5f"
            },
            "marker": {
             "line": {
              "color": "#E5ECF6",
              "width": 0.5
             },
             "pattern": {
              "fillmode": "overlay",
              "size": 10,
              "solidity": 0.2
             }
            },
            "type": "bar"
           }
          ],
          "barpolar": [
           {
            "marker": {
             "line": {
              "color": "#E5ECF6",
              "width": 0.5
             },
             "pattern": {
              "fillmode": "overlay",
              "size": 10,
              "solidity": 0.2
             }
            },
            "type": "barpolar"
           }
          ],
          "carpet": [
           {
            "aaxis": {
             "endlinecolor": "#2a3f5f",
             "gridcolor": "white",
             "linecolor": "white",
             "minorgridcolor": "white",
             "startlinecolor": "#2a3f5f"
            },
            "baxis": {
             "endlinecolor": "#2a3f5f",
             "gridcolor": "white",
             "linecolor": "white",
             "minorgridcolor": "white",
             "startlinecolor": "#2a3f5f"
            },
            "type": "carpet"
           }
          ],
          "choropleth": [
           {
            "colorbar": {
             "outlinewidth": 0,
             "ticks": ""
            },
            "type": "choropleth"
           }
          ],
          "contour": [
           {
            "colorbar": {
             "outlinewidth": 0,
             "ticks": ""
            },
            "colorscale": [
             [
              0,
              "#0d0887"
             ],
             [
              0.1111111111111111,
              "#46039f"
             ],
             [
              0.2222222222222222,
              "#7201a8"
             ],
             [
              0.3333333333333333,
              "#9c179e"
             ],
             [
              0.4444444444444444,
              "#bd3786"
             ],
             [
              0.5555555555555556,
              "#d8576b"
             ],
             [
              0.6666666666666666,
              "#ed7953"
             ],
             [
              0.7777777777777778,
              "#fb9f3a"
             ],
             [
              0.8888888888888888,
              "#fdca26"
             ],
             [
              1,
              "#f0f921"
             ]
            ],
            "type": "contour"
           }
          ],
          "contourcarpet": [
           {
            "colorbar": {
             "outlinewidth": 0,
             "ticks": ""
            },
            "type": "contourcarpet"
           }
          ],
          "heatmap": [
           {
            "colorbar": {
             "outlinewidth": 0,
             "ticks": ""
            },
            "colorscale": [
             [
              0,
              "#0d0887"
             ],
             [
              0.1111111111111111,
              "#46039f"
             ],
             [
              0.2222222222222222,
              "#7201a8"
             ],
             [
              0.3333333333333333,
              "#9c179e"
             ],
             [
              0.4444444444444444,
              "#bd3786"
             ],
             [
              0.5555555555555556,
              "#d8576b"
             ],
             [
              0.6666666666666666,
              "#ed7953"
             ],
             [
              0.7777777777777778,
              "#fb9f3a"
             ],
             [
              0.8888888888888888,
              "#fdca26"
             ],
             [
              1,
              "#f0f921"
             ]
            ],
            "type": "heatmap"
           }
          ],
          "heatmapgl": [
           {
            "colorbar": {
             "outlinewidth": 0,
             "ticks": ""
            },
            "colorscale": [
             [
              0,
              "#0d0887"
             ],
             [
              0.1111111111111111,
              "#46039f"
             ],
             [
              0.2222222222222222,
              "#7201a8"
             ],
             [
              0.3333333333333333,
              "#9c179e"
             ],
             [
              0.4444444444444444,
              "#bd3786"
             ],
             [
              0.5555555555555556,
              "#d8576b"
             ],
             [
              0.6666666666666666,
              "#ed7953"
             ],
             [
              0.7777777777777778,
              "#fb9f3a"
             ],
             [
              0.8888888888888888,
              "#fdca26"
             ],
             [
              1,
              "#f0f921"
             ]
            ],
            "type": "heatmapgl"
           }
          ],
          "histogram": [
           {
            "marker": {
             "pattern": {
              "fillmode": "overlay",
              "size": 10,
              "solidity": 0.2
             }
            },
            "type": "histogram"
           }
          ],
          "histogram2d": [
           {
            "colorbar": {
             "outlinewidth": 0,
             "ticks": ""
            },
            "colorscale": [
             [
              0,
              "#0d0887"
             ],
             [
              0.1111111111111111,
              "#46039f"
             ],
             [
              0.2222222222222222,
              "#7201a8"
             ],
             [
              0.3333333333333333,
              "#9c179e"
             ],
             [
              0.4444444444444444,
              "#bd3786"
             ],
             [
              0.5555555555555556,
              "#d8576b"
             ],
             [
              0.6666666666666666,
              "#ed7953"
             ],
             [
              0.7777777777777778,
              "#fb9f3a"
             ],
             [
              0.8888888888888888,
              "#fdca26"
             ],
             [
              1,
              "#f0f921"
             ]
            ],
            "type": "histogram2d"
           }
          ],
          "histogram2dcontour": [
           {
            "colorbar": {
             "outlinewidth": 0,
             "ticks": ""
            },
            "colorscale": [
             [
              0,
              "#0d0887"
             ],
             [
              0.1111111111111111,
              "#46039f"
             ],
             [
              0.2222222222222222,
              "#7201a8"
             ],
             [
              0.3333333333333333,
              "#9c179e"
             ],
             [
              0.4444444444444444,
              "#bd3786"
             ],
             [
              0.5555555555555556,
              "#d8576b"
             ],
             [
              0.6666666666666666,
              "#ed7953"
             ],
             [
              0.7777777777777778,
              "#fb9f3a"
             ],
             [
              0.8888888888888888,
              "#fdca26"
             ],
             [
              1,
              "#f0f921"
             ]
            ],
            "type": "histogram2dcontour"
           }
          ],
          "mesh3d": [
           {
            "colorbar": {
             "outlinewidth": 0,
             "ticks": ""
            },
            "type": "mesh3d"
           }
          ],
          "parcoords": [
           {
            "line": {
             "colorbar": {
              "outlinewidth": 0,
              "ticks": ""
             }
            },
            "type": "parcoords"
           }
          ],
          "pie": [
           {
            "automargin": true,
            "type": "pie"
           }
          ],
          "scatter": [
           {
            "fillpattern": {
             "fillmode": "overlay",
             "size": 10,
             "solidity": 0.2
            },
            "type": "scatter"
           }
          ],
          "scatter3d": [
           {
            "line": {
             "colorbar": {
              "outlinewidth": 0,
              "ticks": ""
             }
            },
            "marker": {
             "colorbar": {
              "outlinewidth": 0,
              "ticks": ""
             }
            },
            "type": "scatter3d"
           }
          ],
          "scattercarpet": [
           {
            "marker": {
             "colorbar": {
              "outlinewidth": 0,
              "ticks": ""
             }
            },
            "type": "scattercarpet"
           }
          ],
          "scattergeo": [
           {
            "marker": {
             "colorbar": {
              "outlinewidth": 0,
              "ticks": ""
             }
            },
            "type": "scattergeo"
           }
          ],
          "scattergl": [
           {
            "marker": {
             "colorbar": {
              "outlinewidth": 0,
              "ticks": ""
             }
            },
            "type": "scattergl"
           }
          ],
          "scattermapbox": [
           {
            "marker": {
             "colorbar": {
              "outlinewidth": 0,
              "ticks": ""
             }
            },
            "type": "scattermapbox"
           }
          ],
          "scatterpolar": [
           {
            "marker": {
             "colorbar": {
              "outlinewidth": 0,
              "ticks": ""
             }
            },
            "type": "scatterpolar"
           }
          ],
          "scatterpolargl": [
           {
            "marker": {
             "colorbar": {
              "outlinewidth": 0,
              "ticks": ""
             }
            },
            "type": "scatterpolargl"
           }
          ],
          "scatterternary": [
           {
            "marker": {
             "colorbar": {
              "outlinewidth": 0,
              "ticks": ""
             }
            },
            "type": "scatterternary"
           }
          ],
          "surface": [
           {
            "colorbar": {
             "outlinewidth": 0,
             "ticks": ""
            },
            "colorscale": [
             [
              0,
              "#0d0887"
             ],
             [
              0.1111111111111111,
              "#46039f"
             ],
             [
              0.2222222222222222,
              "#7201a8"
             ],
             [
              0.3333333333333333,
              "#9c179e"
             ],
             [
              0.4444444444444444,
              "#bd3786"
             ],
             [
              0.5555555555555556,
              "#d8576b"
             ],
             [
              0.6666666666666666,
              "#ed7953"
             ],
             [
              0.7777777777777778,
              "#fb9f3a"
             ],
             [
              0.8888888888888888,
              "#fdca26"
             ],
             [
              1,
              "#f0f921"
             ]
            ],
            "type": "surface"
           }
          ],
          "table": [
           {
            "cells": {
             "fill": {
              "color": "#EBF0F8"
             },
             "line": {
              "color": "white"
             }
            },
            "header": {
             "fill": {
              "color": "#C8D4E3"
             },
             "line": {
              "color": "white"
             }
            },
            "type": "table"
           }
          ]
         },
         "layout": {
          "annotationdefaults": {
           "arrowcolor": "#2a3f5f",
           "arrowhead": 0,
           "arrowwidth": 1
          },
          "autotypenumbers": "strict",
          "coloraxis": {
           "colorbar": {
            "outlinewidth": 0,
            "ticks": ""
           }
          },
          "colorscale": {
           "diverging": [
            [
             0,
             "#8e0152"
            ],
            [
             0.1,
             "#c51b7d"
            ],
            [
             0.2,
             "#de77ae"
            ],
            [
             0.3,
             "#f1b6da"
            ],
            [
             0.4,
             "#fde0ef"
            ],
            [
             0.5,
             "#f7f7f7"
            ],
            [
             0.6,
             "#e6f5d0"
            ],
            [
             0.7,
             "#b8e186"
            ],
            [
             0.8,
             "#7fbc41"
            ],
            [
             0.9,
             "#4d9221"
            ],
            [
             1,
             "#276419"
            ]
           ],
           "sequential": [
            [
             0,
             "#0d0887"
            ],
            [
             0.1111111111111111,
             "#46039f"
            ],
            [
             0.2222222222222222,
             "#7201a8"
            ],
            [
             0.3333333333333333,
             "#9c179e"
            ],
            [
             0.4444444444444444,
             "#bd3786"
            ],
            [
             0.5555555555555556,
             "#d8576b"
            ],
            [
             0.6666666666666666,
             "#ed7953"
            ],
            [
             0.7777777777777778,
             "#fb9f3a"
            ],
            [
             0.8888888888888888,
             "#fdca26"
            ],
            [
             1,
             "#f0f921"
            ]
           ],
           "sequentialminus": [
            [
             0,
             "#0d0887"
            ],
            [
             0.1111111111111111,
             "#46039f"
            ],
            [
             0.2222222222222222,
             "#7201a8"
            ],
            [
             0.3333333333333333,
             "#9c179e"
            ],
            [
             0.4444444444444444,
             "#bd3786"
            ],
            [
             0.5555555555555556,
             "#d8576b"
            ],
            [
             0.6666666666666666,
             "#ed7953"
            ],
            [
             0.7777777777777778,
             "#fb9f3a"
            ],
            [
             0.8888888888888888,
             "#fdca26"
            ],
            [
             1,
             "#f0f921"
            ]
           ]
          },
          "colorway": [
           "#636efa",
           "#EF553B",
           "#00cc96",
           "#ab63fa",
           "#FFA15A",
           "#19d3f3",
           "#FF6692",
           "#B6E880",
           "#FF97FF",
           "#FECB52"
          ],
          "font": {
           "color": "#2a3f5f"
          },
          "geo": {
           "bgcolor": "white",
           "lakecolor": "white",
           "landcolor": "#E5ECF6",
           "showlakes": true,
           "showland": true,
           "subunitcolor": "white"
          },
          "hoverlabel": {
           "align": "left"
          },
          "hovermode": "closest",
          "mapbox": {
           "style": "light"
          },
          "paper_bgcolor": "white",
          "plot_bgcolor": "#E5ECF6",
          "polar": {
           "angularaxis": {
            "gridcolor": "white",
            "linecolor": "white",
            "ticks": ""
           },
           "bgcolor": "#E5ECF6",
           "radialaxis": {
            "gridcolor": "white",
            "linecolor": "white",
            "ticks": ""
           }
          },
          "scene": {
           "xaxis": {
            "backgroundcolor": "#E5ECF6",
            "gridcolor": "white",
            "gridwidth": 2,
            "linecolor": "white",
            "showbackground": true,
            "ticks": "",
            "zerolinecolor": "white"
           },
           "yaxis": {
            "backgroundcolor": "#E5ECF6",
            "gridcolor": "white",
            "gridwidth": 2,
            "linecolor": "white",
            "showbackground": true,
            "ticks": "",
            "zerolinecolor": "white"
           },
           "zaxis": {
            "backgroundcolor": "#E5ECF6",
            "gridcolor": "white",
            "gridwidth": 2,
            "linecolor": "white",
            "showbackground": true,
            "ticks": "",
            "zerolinecolor": "white"
           }
          },
          "shapedefaults": {
           "line": {
            "color": "#2a3f5f"
           }
          },
          "ternary": {
           "aaxis": {
            "gridcolor": "white",
            "linecolor": "white",
            "ticks": ""
           },
           "baxis": {
            "gridcolor": "white",
            "linecolor": "white",
            "ticks": ""
           },
           "bgcolor": "#E5ECF6",
           "caxis": {
            "gridcolor": "white",
            "linecolor": "white",
            "ticks": ""
           }
          },
          "title": {
           "x": 0.05
          },
          "xaxis": {
           "automargin": true,
           "gridcolor": "white",
           "linecolor": "white",
           "ticks": "",
           "title": {
            "standoff": 15
           },
           "zerolinecolor": "white",
           "zerolinewidth": 2
          },
          "yaxis": {
           "automargin": true,
           "gridcolor": "white",
           "linecolor": "white",
           "ticks": "",
           "title": {
            "standoff": 15
           },
           "zerolinecolor": "white",
           "zerolinewidth": 2
          }
         }
        },
        "width": 1000,
        "yaxis": {
         "autorange": "reversed"
        }
       }
      },
      "text/html": [
       "<div>                            <div id=\"e1dd7fc0-3f45-4ae3-8ff3-f55451f4390f\" class=\"plotly-graph-div\" style=\"height:56px; width:1000px;\"></div>            <script type=\"text/javascript\">                require([\"plotly\"], function(Plotly) {                    window.PLOTLYENV=window.PLOTLYENV || {};                                    if (document.getElementById(\"e1dd7fc0-3f45-4ae3-8ff3-f55451f4390f\")) {                    Plotly.newPlot(                        \"e1dd7fc0-3f45-4ae3-8ff3-f55451f4390f\",                        [{\"colorscale\":[[0.0,\"rgb(255, 198, 196)\"],[0.16666666666666666,\"rgb(244, 163, 168)\"],[0.3333333333333333,\"rgb(227, 129, 145)\"],[0.5,\"rgb(204, 96, 125)\"],[0.6666666666666666,\"rgb(173, 70, 108)\"],[0.8333333333333334,\"rgb(139, 48, 88)\"],[1.0,\"rgb(103, 32, 68)\"]],\"customdata\":[[\"i\",\"n\",\".\",\"t\",\"x\",\"t\",\"\",\"\",\"\",\"\",\"\",\"\",\"\",\"\",\"\",\"\"]],\"dx\":1,\"hovertemplate\":\"%{customdata} <br><b>Score:%{z:.3f}<extra></extra>\",\"x0\":0,\"y\":[\"i n . t x t                                                 \"],\"z\":[[0.0014086042088191175,0.0006504671935764948,0.0001284021737159026,1.0034488449771445e-05,2.941332409115203e-07,0.0,0.0,0.0],[0.0,0.0,0.0,0.0,0.0,0.0,0.0,0.0]],\"zmax\":1,\"zmin\":0,\"type\":\"heatmap\"}],                        {\"template\":{\"data\":{\"histogram2dcontour\":[{\"type\":\"histogram2dcontour\",\"colorbar\":{\"outlinewidth\":0,\"ticks\":\"\"},\"colorscale\":[[0.0,\"#0d0887\"],[0.1111111111111111,\"#46039f\"],[0.2222222222222222,\"#7201a8\"],[0.3333333333333333,\"#9c179e\"],[0.4444444444444444,\"#bd3786\"],[0.5555555555555556,\"#d8576b\"],[0.6666666666666666,\"#ed7953\"],[0.7777777777777778,\"#fb9f3a\"],[0.8888888888888888,\"#fdca26\"],[1.0,\"#f0f921\"]]}],\"choropleth\":[{\"type\":\"choropleth\",\"colorbar\":{\"outlinewidth\":0,\"ticks\":\"\"}}],\"histogram2d\":[{\"type\":\"histogram2d\",\"colorbar\":{\"outlinewidth\":0,\"ticks\":\"\"},\"colorscale\":[[0.0,\"#0d0887\"],[0.1111111111111111,\"#46039f\"],[0.2222222222222222,\"#7201a8\"],[0.3333333333333333,\"#9c179e\"],[0.4444444444444444,\"#bd3786\"],[0.5555555555555556,\"#d8576b\"],[0.6666666666666666,\"#ed7953\"],[0.7777777777777778,\"#fb9f3a\"],[0.8888888888888888,\"#fdca26\"],[1.0,\"#f0f921\"]]}],\"heatmap\":[{\"type\":\"heatmap\",\"colorbar\":{\"outlinewidth\":0,\"ticks\":\"\"},\"colorscale\":[[0.0,\"#0d0887\"],[0.1111111111111111,\"#46039f\"],[0.2222222222222222,\"#7201a8\"],[0.3333333333333333,\"#9c179e\"],[0.4444444444444444,\"#bd3786\"],[0.5555555555555556,\"#d8576b\"],[0.6666666666666666,\"#ed7953\"],[0.7777777777777778,\"#fb9f3a\"],[0.8888888888888888,\"#fdca26\"],[1.0,\"#f0f921\"]]}],\"heatmapgl\":[{\"type\":\"heatmapgl\",\"colorbar\":{\"outlinewidth\":0,\"ticks\":\"\"},\"colorscale\":[[0.0,\"#0d0887\"],[0.1111111111111111,\"#46039f\"],[0.2222222222222222,\"#7201a8\"],[0.3333333333333333,\"#9c179e\"],[0.4444444444444444,\"#bd3786\"],[0.5555555555555556,\"#d8576b\"],[0.6666666666666666,\"#ed7953\"],[0.7777777777777778,\"#fb9f3a\"],[0.8888888888888888,\"#fdca26\"],[1.0,\"#f0f921\"]]}],\"contourcarpet\":[{\"type\":\"contourcarpet\",\"colorbar\":{\"outlinewidth\":0,\"ticks\":\"\"}}],\"contour\":[{\"type\":\"contour\",\"colorbar\":{\"outlinewidth\":0,\"ticks\":\"\"},\"colorscale\":[[0.0,\"#0d0887\"],[0.1111111111111111,\"#46039f\"],[0.2222222222222222,\"#7201a8\"],[0.3333333333333333,\"#9c179e\"],[0.4444444444444444,\"#bd3786\"],[0.5555555555555556,\"#d8576b\"],[0.6666666666666666,\"#ed7953\"],[0.7777777777777778,\"#fb9f3a\"],[0.8888888888888888,\"#fdca26\"],[1.0,\"#f0f921\"]]}],\"surface\":[{\"type\":\"surface\",\"colorbar\":{\"outlinewidth\":0,\"ticks\":\"\"},\"colorscale\":[[0.0,\"#0d0887\"],[0.1111111111111111,\"#46039f\"],[0.2222222222222222,\"#7201a8\"],[0.3333333333333333,\"#9c179e\"],[0.4444444444444444,\"#bd3786\"],[0.5555555555555556,\"#d8576b\"],[0.6666666666666666,\"#ed7953\"],[0.7777777777777778,\"#fb9f3a\"],[0.8888888888888888,\"#fdca26\"],[1.0,\"#f0f921\"]]}],\"mesh3d\":[{\"type\":\"mesh3d\",\"colorbar\":{\"outlinewidth\":0,\"ticks\":\"\"}}],\"scatter\":[{\"fillpattern\":{\"fillmode\":\"overlay\",\"size\":10,\"solidity\":0.2},\"type\":\"scatter\"}],\"parcoords\":[{\"type\":\"parcoords\",\"line\":{\"colorbar\":{\"outlinewidth\":0,\"ticks\":\"\"}}}],\"scatterpolargl\":[{\"type\":\"scatterpolargl\",\"marker\":{\"colorbar\":{\"outlinewidth\":0,\"ticks\":\"\"}}}],\"bar\":[{\"error_x\":{\"color\":\"#2a3f5f\"},\"error_y\":{\"color\":\"#2a3f5f\"},\"marker\":{\"line\":{\"color\":\"#E5ECF6\",\"width\":0.5},\"pattern\":{\"fillmode\":\"overlay\",\"size\":10,\"solidity\":0.2}},\"type\":\"bar\"}],\"scattergeo\":[{\"type\":\"scattergeo\",\"marker\":{\"colorbar\":{\"outlinewidth\":0,\"ticks\":\"\"}}}],\"scatterpolar\":[{\"type\":\"scatterpolar\",\"marker\":{\"colorbar\":{\"outlinewidth\":0,\"ticks\":\"\"}}}],\"histogram\":[{\"marker\":{\"pattern\":{\"fillmode\":\"overlay\",\"size\":10,\"solidity\":0.2}},\"type\":\"histogram\"}],\"scattergl\":[{\"type\":\"scattergl\",\"marker\":{\"colorbar\":{\"outlinewidth\":0,\"ticks\":\"\"}}}],\"scatter3d\":[{\"type\":\"scatter3d\",\"line\":{\"colorbar\":{\"outlinewidth\":0,\"ticks\":\"\"}},\"marker\":{\"colorbar\":{\"outlinewidth\":0,\"ticks\":\"\"}}}],\"scattermapbox\":[{\"type\":\"scattermapbox\",\"marker\":{\"colorbar\":{\"outlinewidth\":0,\"ticks\":\"\"}}}],\"scatterternary\":[{\"type\":\"scatterternary\",\"marker\":{\"colorbar\":{\"outlinewidth\":0,\"ticks\":\"\"}}}],\"scattercarpet\":[{\"type\":\"scattercarpet\",\"marker\":{\"colorbar\":{\"outlinewidth\":0,\"ticks\":\"\"}}}],\"carpet\":[{\"aaxis\":{\"endlinecolor\":\"#2a3f5f\",\"gridcolor\":\"white\",\"linecolor\":\"white\",\"minorgridcolor\":\"white\",\"startlinecolor\":\"#2a3f5f\"},\"baxis\":{\"endlinecolor\":\"#2a3f5f\",\"gridcolor\":\"white\",\"linecolor\":\"white\",\"minorgridcolor\":\"white\",\"startlinecolor\":\"#2a3f5f\"},\"type\":\"carpet\"}],\"table\":[{\"cells\":{\"fill\":{\"color\":\"#EBF0F8\"},\"line\":{\"color\":\"white\"}},\"header\":{\"fill\":{\"color\":\"#C8D4E3\"},\"line\":{\"color\":\"white\"}},\"type\":\"table\"}],\"barpolar\":[{\"marker\":{\"line\":{\"color\":\"#E5ECF6\",\"width\":0.5},\"pattern\":{\"fillmode\":\"overlay\",\"size\":10,\"solidity\":0.2}},\"type\":\"barpolar\"}],\"pie\":[{\"automargin\":true,\"type\":\"pie\"}]},\"layout\":{\"autotypenumbers\":\"strict\",\"colorway\":[\"#636efa\",\"#EF553B\",\"#00cc96\",\"#ab63fa\",\"#FFA15A\",\"#19d3f3\",\"#FF6692\",\"#B6E880\",\"#FF97FF\",\"#FECB52\"],\"font\":{\"color\":\"#2a3f5f\"},\"hovermode\":\"closest\",\"hoverlabel\":{\"align\":\"left\"},\"paper_bgcolor\":\"white\",\"plot_bgcolor\":\"#E5ECF6\",\"polar\":{\"bgcolor\":\"#E5ECF6\",\"angularaxis\":{\"gridcolor\":\"white\",\"linecolor\":\"white\",\"ticks\":\"\"},\"radialaxis\":{\"gridcolor\":\"white\",\"linecolor\":\"white\",\"ticks\":\"\"}},\"ternary\":{\"bgcolor\":\"#E5ECF6\",\"aaxis\":{\"gridcolor\":\"white\",\"linecolor\":\"white\",\"ticks\":\"\"},\"baxis\":{\"gridcolor\":\"white\",\"linecolor\":\"white\",\"ticks\":\"\"},\"caxis\":{\"gridcolor\":\"white\",\"linecolor\":\"white\",\"ticks\":\"\"}},\"coloraxis\":{\"colorbar\":{\"outlinewidth\":0,\"ticks\":\"\"}},\"colorscale\":{\"sequential\":[[0.0,\"#0d0887\"],[0.1111111111111111,\"#46039f\"],[0.2222222222222222,\"#7201a8\"],[0.3333333333333333,\"#9c179e\"],[0.4444444444444444,\"#bd3786\"],[0.5555555555555556,\"#d8576b\"],[0.6666666666666666,\"#ed7953\"],[0.7777777777777778,\"#fb9f3a\"],[0.8888888888888888,\"#fdca26\"],[1.0,\"#f0f921\"]],\"sequentialminus\":[[0.0,\"#0d0887\"],[0.1111111111111111,\"#46039f\"],[0.2222222222222222,\"#7201a8\"],[0.3333333333333333,\"#9c179e\"],[0.4444444444444444,\"#bd3786\"],[0.5555555555555556,\"#d8576b\"],[0.6666666666666666,\"#ed7953\"],[0.7777777777777778,\"#fb9f3a\"],[0.8888888888888888,\"#fdca26\"],[1.0,\"#f0f921\"]],\"diverging\":[[0,\"#8e0152\"],[0.1,\"#c51b7d\"],[0.2,\"#de77ae\"],[0.3,\"#f1b6da\"],[0.4,\"#fde0ef\"],[0.5,\"#f7f7f7\"],[0.6,\"#e6f5d0\"],[0.7,\"#b8e186\"],[0.8,\"#7fbc41\"],[0.9,\"#4d9221\"],[1,\"#276419\"]]},\"xaxis\":{\"gridcolor\":\"white\",\"linecolor\":\"white\",\"ticks\":\"\",\"title\":{\"standoff\":15},\"zerolinecolor\":\"white\",\"automargin\":true,\"zerolinewidth\":2},\"yaxis\":{\"gridcolor\":\"white\",\"linecolor\":\"white\",\"ticks\":\"\",\"title\":{\"standoff\":15},\"zerolinecolor\":\"white\",\"automargin\":true,\"zerolinewidth\":2},\"scene\":{\"xaxis\":{\"backgroundcolor\":\"#E5ECF6\",\"gridcolor\":\"white\",\"linecolor\":\"white\",\"showbackground\":true,\"ticks\":\"\",\"zerolinecolor\":\"white\",\"gridwidth\":2},\"yaxis\":{\"backgroundcolor\":\"#E5ECF6\",\"gridcolor\":\"white\",\"linecolor\":\"white\",\"showbackground\":true,\"ticks\":\"\",\"zerolinecolor\":\"white\",\"gridwidth\":2},\"zaxis\":{\"backgroundcolor\":\"#E5ECF6\",\"gridcolor\":\"white\",\"linecolor\":\"white\",\"showbackground\":true,\"ticks\":\"\",\"zerolinecolor\":\"white\",\"gridwidth\":2}},\"shapedefaults\":{\"line\":{\"color\":\"#2a3f5f\"}},\"annotationdefaults\":{\"arrowcolor\":\"#2a3f5f\",\"arrowhead\":0,\"arrowwidth\":1},\"geo\":{\"bgcolor\":\"white\",\"landcolor\":\"#E5ECF6\",\"subunitcolor\":\"white\",\"showland\":true,\"showlakes\":true,\"lakecolor\":\"white\"},\"title\":{\"x\":0.05},\"mapbox\":{\"style\":\"light\"}}},\"font\":{\"family\":\"Courier New\"},\"height\":56,\"width\":1000,\"yaxis\":{\"autorange\":\"reversed\"}},                        {\"responsive\": true}                    ).then(function(){\n",
       "                            \n",
       "var gd = document.getElementById('e1dd7fc0-3f45-4ae3-8ff3-f55451f4390f');\n",
       "var x = new MutationObserver(function (mutations, observer) {{\n",
       "        var display = window.getComputedStyle(gd).display;\n",
       "        if (!display || display === 'none') {{\n",
       "            console.log([gd, 'removed!']);\n",
       "            Plotly.purge(gd);\n",
       "            observer.disconnect();\n",
       "        }}\n",
       "}});\n",
       "\n",
       "// Listen for the removal of the full notebook cells\n",
       "var notebookContainer = gd.closest('#notebook-container');\n",
       "if (notebookContainer) {{\n",
       "    x.observe(notebookContainer, {childList: true});\n",
       "}}\n",
       "\n",
       "// Listen for the clearing of the current output cell\n",
       "var outputEl = gd.closest('.output');\n",
       "if (outputEl) {{\n",
       "    x.observe(outputEl, {childList: true});\n",
       "}}\n",
       "\n",
       "                        })                };                });            </script>        </div>"
      ]
     },
     "metadata": {},
     "output_type": "display_data"
    }
   ],
   "source": [
    "# create heatmap\n",
    "fig = go.Figure(data=go.Heatmap(\n",
    "                z=a, x0=0, dx=1,\n",
    "                y=labels, zmin=0, zmax=1,\n",
    "                customdata=labels_individual,\n",
    "                hovertemplate='%{customdata} <br><b>Score:%{z:.3f}<extra></extra>',\n",
    "                colorscale=\"burg\"))\n",
    "fig.update_layout({\"height\":height*28, \"width\":1000, \"font\":{\"family\":\"Courier New\"}})\n",
    "fig['layout']['yaxis']['autorange'] = \"reversed\"\n",
    "fig.show()"
   ]
  },
  {
   "cell_type": "code",
   "execution_count": null,
   "id": "5df41b6b",
   "metadata": {},
   "outputs": [],
   "source": []
  },
  {
   "cell_type": "code",
   "execution_count": null,
   "id": "89db2e87",
   "metadata": {},
   "outputs": [],
   "source": []
  }
 ],
 "metadata": {
  "kernelspec": {
   "display_name": "Python 3 (ipykernel)",
   "language": "python",
   "name": "python3"
  },
  "language_info": {
   "codemirror_mode": {
    "name": "ipython",
    "version": 3
   },
   "file_extension": ".py",
   "mimetype": "text/x-python",
   "name": "python",
   "nbconvert_exporter": "python",
   "pygments_lexer": "ipython3",
   "version": "3.10.9"
  },
  "papermill": {
   "default_parameters": {},
   "duration": 19.478607,
   "end_time": "2022-02-27T06:30:29.388646",
   "environment_variables": {},
   "exception": null,
   "input_path": "__notebook__.ipynb",
   "output_path": "__notebook__.ipynb",
   "parameters": {},
   "start_time": "2022-02-27T06:30:09.910039",
   "version": "2.3.3"
  }
 },
 "nbformat": 4,
 "nbformat_minor": 5
}
